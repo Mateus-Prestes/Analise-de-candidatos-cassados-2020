{
 "cells": [
  {
   "cell_type": "markdown",
   "metadata": {},
   "source": [
    "#  1. Importando as bibliotecas necessárias e a base de dados"
   ]
  },
  {
   "cell_type": "code",
   "execution_count": 41,
   "metadata": {},
   "outputs": [
    {
     "name": "stdout",
     "output_type": "stream",
     "text": [
      "Requirement already satisfied: pandas in ./analise_eleiçoes_env/lib/python3.7/site-packages (1.1.4)\n",
      "Requirement already satisfied: numpy>=1.15.4 in ./analise_eleiçoes_env/lib/python3.7/site-packages (from pandas) (1.19.4)\n",
      "Requirement already satisfied: pytz>=2017.2 in ./analise_eleiçoes_env/lib/python3.7/site-packages (from pandas) (2020.4)\n",
      "Requirement already satisfied: python-dateutil>=2.7.3 in ./analise_eleiçoes_env/lib/python3.7/site-packages (from pandas) (2.8.1)\n",
      "Requirement already satisfied: six>=1.5 in ./analise_eleiçoes_env/lib/python3.7/site-packages (from python-dateutil>=2.7.3->pandas) (1.15.0)\n",
      "\u001b[33mWARNING: You are using pip version 20.2.4; however, version 20.3.1 is available.\n",
      "You should consider upgrading via the '/home/mateus/Desktop/analise_eleiçoes/analise_eleiçoes_env/bin/python -m pip install --upgrade pip' command.\u001b[0m\n",
      "Requirement already satisfied: matplotlib in ./analise_eleiçoes_env/lib/python3.7/site-packages (3.3.3)\n",
      "Requirement already satisfied: python-dateutil>=2.1 in ./analise_eleiçoes_env/lib/python3.7/site-packages (from matplotlib) (2.8.1)\n",
      "Requirement already satisfied: pillow>=6.2.0 in ./analise_eleiçoes_env/lib/python3.7/site-packages (from matplotlib) (8.0.1)\n",
      "Requirement already satisfied: numpy>=1.15 in ./analise_eleiçoes_env/lib/python3.7/site-packages (from matplotlib) (1.19.4)\n",
      "Requirement already satisfied: cycler>=0.10 in ./analise_eleiçoes_env/lib/python3.7/site-packages (from matplotlib) (0.10.0)\n",
      "Requirement already satisfied: kiwisolver>=1.0.1 in ./analise_eleiçoes_env/lib/python3.7/site-packages (from matplotlib) (1.3.1)\n",
      "Requirement already satisfied: pyparsing!=2.0.4,!=2.1.2,!=2.1.6,>=2.0.3 in ./analise_eleiçoes_env/lib/python3.7/site-packages (from matplotlib) (2.4.7)\n",
      "Requirement already satisfied: six>=1.5 in ./analise_eleiçoes_env/lib/python3.7/site-packages (from python-dateutil>=2.1->matplotlib) (1.15.0)\n",
      "\u001b[33mWARNING: You are using pip version 20.2.4; however, version 20.3.1 is available.\n",
      "You should consider upgrading via the '/home/mateus/Desktop/analise_eleiçoes/analise_eleiçoes_env/bin/python -m pip install --upgrade pip' command.\u001b[0m\n",
      "Requirement already satisfied: numpy in ./analise_eleiçoes_env/lib/python3.7/site-packages (1.19.4)\n",
      "\u001b[33mWARNING: You are using pip version 20.2.4; however, version 20.3.1 is available.\n",
      "You should consider upgrading via the '/home/mateus/Desktop/analise_eleiçoes/analise_eleiçoes_env/bin/python -m pip install --upgrade pip' command.\u001b[0m\n"
     ]
    }
   ],
   "source": [
    "!pip3 install pandas\n",
    "!pip3 install matplotlib\n",
    "!pip3 install numpy\n",
    "\n",
    "import pandas as pd\n",
    "import matplotlib.pyplot as plt\n",
    "import numpy as np\n",
    "\n",
    "consulta_cand2020SP = pd.read_csv('~/Desktop/analise_eleiçoes/consulta_cand_2020/consulta_cand_2020_SP.csv',\n",
    "delimiter=';', encoding = 'iso-8859-1',error_bad_lines=False)\n",
    "\n",
    "motivo_cass2020SP = pd.read_csv('~/Desktop/analise_eleiçoes/motivo_cassacao_2020/motivo_cassacao_2020_SP.csv',\n",
    "delimiter=';', encoding = 'iso-8859-1',error_bad_lines=False)\n"
   ]
  },
  {
   "cell_type": "markdown",
   "metadata": {
    "scrolled": true
   },
   "source": [
    "## 2. Gráfico exibindo quantidade de candidatos cassados e a quantidade de candidatos não cassados no estado de SP"
   ]
  },
  {
   "cell_type": "markdown",
   "metadata": {},
   "source": [
    "### 2.1 Extraindo dados da base para a criação do gráfico"
   ]
  },
  {
   "cell_type": "code",
   "execution_count": 42,
   "metadata": {},
   "outputs": [],
   "source": [
    "cass=int(len(motivo_cass2020SP['SQ_CANDIDATO'])) \n",
    "cand=int(len(consulta_cand2020SP['SQ_CANDIDATO']) - (len(motivo_cass2020SP['SQ_CANDIDATO']))) "
   ]
  },
  {
   "cell_type": "markdown",
   "metadata": {},
   "source": [
    "### 2.2 Criando e exibindo gráfico "
   ]
  },
  {
   "cell_type": "code",
   "execution_count": 43,
   "metadata": {},
   "outputs": [
    {
     "data": {
      "image/png": "[encoded data removed]",
      "text/plain": [
       "<Figure size 432x216 with 1 Axes>"
      ]
     },
     "metadata": {},
     "output_type": "display_data"
    }
   ],
   "source": [
    "labels = ['Cassados', 'Não cassados'] \n",
    "candidatos = [cass, cand] \n",
    "colors = ['red', 'green'] \n",
    "explode = (0.1, 0)\n",
    "\n",
    "total = sum(candidatos)\n",
    "\n",
    "fig, ax = plt.subplots(figsize=(6, 3), subplot_kw=dict(aspect=\"equal\")) # ->->-> area de plotar e tamanho do grafico\n",
    "\n",
    "font = {'family': 'serif',\n",
    "        'color':  'darkred',\n",
    "        'weight': 'normal',\n",
    "        'size': 16,\n",
    "        }\n",
    "\n",
    "def func(pct, allvals):\n",
    "    absolute = int(pct/100.*np.sum(allvals))\n",
    "    return \"{:.1f}%\\n({:d} g)\".format(pct, absolute)\n",
    "\n",
    "\n",
    "wedges, texts, autotexts = ax.pie(candidatos, explode=explode, labels=labels, \n",
    "                                colors=colors, autopct=lambda p: '{:.0f}'.format(p * total / 100),\n",
    "                                shadow=True, startangle=90)\n",
    "ax.axis('equal')\n",
    "\n",
    "ax.legend(wedges, candidatos,\n",
    "        title = 'Candidatos',\n",
    "        loc = 'center right',\n",
    "        )\n",
    "\n",
    "plt.setp(autotexts, size=8, weight=\"bold\")\n",
    "\n",
    "ax.set_title('Candidatos Cassados', fontdict = font, loc= 'left')\n",
    "\n",
    "plt.show()\n"
   ]
  },
  {
   "cell_type": "markdown",
   "metadata": {},
   "source": [
    "## 3. Gerando gráfico de motivos mais comuns de cassação em SP"
   ]
  },
  {
   "cell_type": "markdown",
   "metadata": {},
   "source": [
    "### 3.1 Extraindo dados da base para a criação do gráfico"
   ]
  },
  {
   "cell_type": "code",
   "execution_count": 44,
   "metadata": {},
   "outputs": [],
   "source": [
    "motivo = (motivo_cass2020SP.filter(items= [ 'SQ_CANDIDATO', 'DS_MOTIVO_CASSACAO']))\n",
    "\n",
    "mot = []\n",
    "valor = []\n",
    "for i in motivo_cass2020SP['DS_MOTIVO_CASSACAO'] :\n",
    "    if i not in mot :\n",
    "        mot.append(str(i))\n",
    "\n",
    "contas = []\n",
    "for i in motivo_cass2020SP['DS_MOTIVO_CASSACAO'] :\n",
    "    for g in range(0, len(mot)):\n",
    "        if i == mot[g]:\n",
    "            contas.append(g)\n",
    "\n",
    "for i in range(0, len(mot)):\n",
    "    valor.append(contas.count(i))\n",
    "\n",
    "\n",
    "index = np.arange(len(mot))\n"
   ]
  },
  {
   "cell_type": "markdown",
   "metadata": {},
   "source": [
    "### 3.2 Criando e exibindo gráfico"
   ]
  },
  {
   "cell_type": "code",
   "execution_count": 45,
   "metadata": {},
   "outputs": [
    {
     "data": {
      "image/png": "[encoded data removed]",
      "text/plain": [
       "<Figure size 432x288 with 1 Axes>"
      ]
     },
     "metadata": {
      "needs_background": "light"
     },
     "output_type": "display_data"
    }
   ],
   "source": [
    "plt.bar(index, valor, color='red')\n",
    "plt.xlabel('Motivo')\n",
    "plt.ylabel('Candidatos')\n",
    "plt.xticks(index, mot, fontsize=6)\n",
    "\n",
    "plt.title(label='Motivos mais comuns de cassação de candidatos',fontdict= font, fontweight= 30)\n",
    "\n",
    "plt.show()"
   ]
  },
  {
   "cell_type": "markdown",
   "metadata": {},
   "source": [
    "## 4. Gráfico de quantidade de candidatos cassados de todos os partidos políticos no estado de SP"
   ]
  },
  {
   "cell_type": "markdown",
   "metadata": {},
   "source": [
    "### 4.1 Extraindo dados da base para a criação do gráfico"
   ]
  },
  {
   "cell_type": "code",
   "execution_count": 46,
   "metadata": {},
   "outputs": [
    {
     "name": "stdout",
     "output_type": "stream",
     "text": [
      "PSDB 423\n",
      "PSD 257\n",
      "SOLIDARIEDADE 136\n",
      "PODE 245\n",
      "PP 173\n",
      "MDB 290\n",
      "PSC 108\n",
      "PSB 177\n",
      "PC do B 52\n",
      "PTB 251\n",
      "PSL 177\n",
      "PMB 25\n",
      "PMN 26\n",
      "DEM 310\n",
      "PDT 169\n",
      "REPUBLICANOS 310\n",
      "PL 260\n",
      "AVANTE 135\n",
      "PT 141\n",
      "PATRIOTA 149\n",
      "PROS 57\n",
      "PSOL 42\n",
      "PV 142\n",
      "DC 19\n",
      "PRTB 95\n",
      "REDE 35\n",
      "CIDADANIA 139\n",
      "PTC 40\n",
      "NOVO 8\n",
      "PSTU 2\n",
      "PCO 1\n"
     ]
    }
   ],
   "source": [
    "partidos = []\n",
    "nomepart = []\n",
    "contas = []\n",
    "valor = []\n",
    "cont = 0\n",
    "\n",
    "for i in motivo_cass2020SP['SQ_CANDIDATO']:\n",
    "    for x in consulta_cand2020SP['SQ_CANDIDATO']:\n",
    "        if i == x:\n",
    "            part = str(consulta_cand2020SP.loc[cont, 'SG_PARTIDO'])\n",
    "            partidos.append(part)\n",
    "            cont+=1\n",
    "\n",
    "\n",
    "for i in partidos:\n",
    "    if i not in nomepart:\n",
    "        nomepart.append(i)\n",
    "\n",
    "\n",
    "for i in partidos :\n",
    "    for g in range(0, len(nomepart)):\n",
    "        if i == nomepart[g]:\n",
    "            contas.append(g)\n",
    "\n",
    "for i in range(0, len(nomepart)):\n",
    "    print(nomepart[i], contas.count(i))\n",
    "    valor.append(contas.count(i))\n",
    "\n",
    "    index = np.arange(len(nomepart))\n"
   ]
  },
  {
   "cell_type": "markdown",
   "metadata": {},
   "source": [
    "### 4.2 Criando e exibindo gráfico"
   ]
  },
  {
   "cell_type": "code",
   "execution_count": 47,
   "metadata": {},
   "outputs": [
    {
     "data": {
      "image/png": "[encoded data removed]",
      "text/plain": [
       "<Figure size 432x288 with 1 Axes>"
      ]
     },
     "metadata": {
      "needs_background": "light"
     },
     "output_type": "display_data"
    }
   ],
   "source": [
    "plt.bar(index, valor, color='red')\n",
    "plt.xlabel('Partidos')\n",
    "plt.ylabel('Nº de Candidatos')\n",
    "plt.xticks(index, nomepart, fontsize=8)\n",
    "\n",
    "plt.title(label='Quantia de cassação por partido', fontweight= 30)\n",
    "\n",
    "plt.show()"
   ]
  },
  {
   "cell_type": "code",
   "execution_count": null,
   "metadata": {},
   "outputs": [],
   "source": []
  }
 ],
 "metadata": {
  "kernelspec": {
   "display_name": "Python 3",
   "language": "python",
   "name": "python3"
  },
  "language_info": {
   "codemirror_mode": {
    "name": "ipython",
    "version": 3
   },
   "file_extension": ".py",
   "mimetype": "text/x-python",
   "name": "python",
   "nbconvert_exporter": "python",
   "pygments_lexer": "ipython3",
   "version": "3.7.3"
  }
 },
 "nbformat": 4,
 "nbformat_minor": 4
}
